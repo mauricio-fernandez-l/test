{
 "cells": [
  {
   "cell_type": "markdown",
   "metadata": {},
   "source": [
    "# Widgets\n",
    "\n",
    "* [Interaction](https://ipywidgets.readthedocs.io/en/latest/examples/Using%20Interact.html)\n",
    "* [List of widgets](https://ipywidgets.readthedocs.io/en/latest/examples/Widget%20List.html)\n",
    "\n",
    "Good tutorials:\n",
    "* [Intro and basic interactive plotting](https://www.youtube.com/watch?v=6SHnmho7zCs)\n",
    "* [Dashboard](https://towardsdatascience.com/bring-your-jupyter-notebook-to-life-with-interactive-widgets-bc12e03f0916)"
   ]
  },
  {
   "cell_type": "code",
   "execution_count": 1,
   "metadata": {},
   "outputs": [],
   "source": [
    "import ipywidgets as widgets\n",
    "import numpy as np\n",
    "%matplotlib inline\n",
    "import matplotlib.pyplot as plt\n",
    "\n",
    "from IPython.display import display"
   ]
  },
  {
   "cell_type": "markdown",
   "metadata": {},
   "source": [
    "## Basic interact"
   ]
  },
  {
   "cell_type": "code",
   "execution_count": 2,
   "metadata": {},
   "outputs": [],
   "source": [
    "def f(x):\n",
    "    return x"
   ]
  },
  {
   "cell_type": "code",
   "execution_count": 3,
   "metadata": {},
   "outputs": [
    {
     "data": {
      "application/vnd.jupyter.widget-view+json": {
       "model_id": "85ced47b915d45c397bd5788b3a79be9",
       "version_major": 2,
       "version_minor": 0
      },
      "text/plain": [
       "interactive(children=(IntSlider(value=1, description='x', max=3, min=-1), Output()), _dom_classes=('widget-int…"
      ]
     },
     "metadata": {},
     "output_type": "display_data"
    },
    {
     "data": {
      "application/vnd.jupyter.widget-view+json": {
       "model_id": "8744bd75c70d4119ba664c98fdc111a0",
       "version_major": 2,
       "version_minor": 0
      },
      "text/plain": [
       "interactive(children=(FloatSlider(value=1.0, description='x', max=3.0, min=-1.0), Output()), _dom_classes=('wi…"
      ]
     },
     "metadata": {},
     "output_type": "display_data"
    },
    {
     "data": {
      "application/vnd.jupyter.widget-view+json": {
       "model_id": "2e7ebba5ab0d454c8286f601edf8c6f7",
       "version_major": 2,
       "version_minor": 0
      },
      "text/plain": [
       "interactive(children=(Text(value='Hello', description='x'), Output()), _dom_classes=('widget-interact',))"
      ]
     },
     "metadata": {},
     "output_type": "display_data"
    },
    {
     "data": {
      "application/vnd.jupyter.widget-view+json": {
       "model_id": "33d91db457384000b002b6aea560cc59",
       "version_major": 2,
       "version_minor": 0
      },
      "text/plain": [
       "interactive(children=(Checkbox(value=True, description='x'), Output()), _dom_classes=('widget-interact',))"
      ]
     },
     "metadata": {},
     "output_type": "display_data"
    },
    {
     "data": {
      "application/vnd.jupyter.widget-view+json": {
       "model_id": "8795903f1a68467296546c3a6f97a754",
       "version_major": 2,
       "version_minor": 0
      },
      "text/plain": [
       "interactive(children=(Dropdown(description='x', options=('apple', 'orange', 'more tasty stuff'), value='apple'…"
      ]
     },
     "metadata": {},
     "output_type": "display_data"
    },
    {
     "data": {
      "application/vnd.jupyter.widget-view+json": {
       "model_id": "d1ef524e1dc3495785532863d13301da",
       "version_major": 2,
       "version_minor": 0
      },
      "text/plain": [
       "interactive(children=(Dropdown(description='x', options=(('option 1', 100), ('option 2', 200)), value=100), Ou…"
      ]
     },
     "metadata": {},
     "output_type": "display_data"
    },
    {
     "name": "stdout",
     "output_type": "stream",
     "text": [
      "\n"
     ]
    }
   ],
   "source": [
    "widgets.interact(f,x=1)\n",
    "widgets.interact(f,x=1.0)\n",
    "widgets.interact(f,x='Hello')\n",
    "widgets.interact(f,x=True)\n",
    "widgets.interact(f,x=['apple','orange','more tasty stuff'])\n",
    "widgets.interact(f,x=[('option 1',100),('option 2',200)])\n",
    "print()"
   ]
  },
  {
   "cell_type": "markdown",
   "metadata": {},
   "source": [
    "## Formatted widgets"
   ]
  },
  {
   "cell_type": "code",
   "execution_count": 4,
   "metadata": {},
   "outputs": [
    {
     "data": {
      "application/vnd.jupyter.widget-view+json": {
       "model_id": "7b7f27b7bfd14917bf58398efbfc2942",
       "version_major": 2,
       "version_minor": 0
      },
      "text/plain": [
       "interactive(children=(Text(value='', description='Name', placeholder='Enter a name'), IntSlider(value=20, desc…"
      ]
     },
     "metadata": {},
     "output_type": "display_data"
    },
    {
     "name": "stdout",
     "output_type": "stream",
     "text": [
      "\n"
     ]
    }
   ],
   "source": [
    "name = widgets.Text(\n",
    "    description='Name'\n",
    "    ,placeholder='Enter a name'\n",
    "    ,disabled=False\n",
    ")\n",
    "age = widgets.IntSlider(\n",
    "    description='Age'\n",
    "    ,value=20\n",
    ")\n",
    "\n",
    "def myprint(n,a):\n",
    "    out = 'Who are you?'\n",
    "    if n=='Mauricio':\n",
    "        out = '''Oh! You are Mauricio. \n",
    "        I have heard of you. \n",
    "        You are %i years old ... I have heard something else around 33.\n",
    "        The double of your age is %i.\n",
    "        ''' % (a,2*a)\n",
    "    else:\n",
    "        out = 'Hi %s! You are %i years old' % (n,a)    \n",
    "    print(out)\n",
    "    return \n",
    "    \n",
    "widgets.interact(myprint,n=name,a=age)\n",
    "print()"
   ]
  },
  {
   "cell_type": "markdown",
   "metadata": {},
   "source": [
    "## Basic interactive plotting"
   ]
  },
  {
   "cell_type": "code",
   "execution_count": 5,
   "metadata": {},
   "outputs": [
    {
     "data": {
      "application/vnd.jupyter.widget-view+json": {
       "model_id": "a4fb49fd826841adbb04663db04ab58d",
       "version_major": 2,
       "version_minor": 0
      },
      "text/plain": [
       "interactive(children=(FloatSlider(value=1.0, description='p', max=2.0), Output()), _dom_classes=('widget-inter…"
      ]
     },
     "metadata": {},
     "output_type": "display_data"
    },
    {
     "data": {
      "application/vnd.jupyter.widget-view+json": {
       "model_id": "04f85c8871c440f3b751b56f9325537d",
       "version_major": 2,
       "version_minor": 0
      },
      "text/plain": [
       "interactive(children=(Dropdown(description='p', options=(1, 2, 3), value=1), Output()), _dom_classes=('widget-…"
      ]
     },
     "metadata": {},
     "output_type": "display_data"
    },
    {
     "name": "stdout",
     "output_type": "stream",
     "text": [
      "\n"
     ]
    }
   ],
   "source": [
    "def plot(p):\n",
    "    x = np.linspace(0,2,20)\n",
    "    f = x**2+p\n",
    "    plt.plot(x,f)\n",
    "    plt.ylim([0,4])\n",
    "    \n",
    "p_slider = widgets.FloatSlider(\n",
    "    value = 1.0\n",
    "    ,min = 0.0\n",
    "    ,max = 2.0\n",
    "    ,step = 0.1\n",
    ")\n",
    "\n",
    "widgets.interact(plot,p=p_slider)\n",
    "widgets.interact(plot,p=[1,2,3])\n",
    "print()"
   ]
  },
  {
   "cell_type": "code",
   "execution_count": 19,
   "metadata": {},
   "outputs": [],
   "source": [
    "w = widgets.interactive(plot,{'manual':True},p=p_slider)\n",
    "w.children[1].description = 'Run/Update'"
   ]
  },
  {
   "cell_type": "code",
   "execution_count": 20,
   "metadata": {},
   "outputs": [
    {
     "data": {
      "application/vnd.jupyter.widget-view+json": {
       "model_id": "7e6d4520d70749c3b96ccffeea8cf4be",
       "version_major": 2,
       "version_minor": 0
      },
      "text/plain": [
       "interactive(children=(FloatSlider(value=1.4, description='p', max=2.0), Button(description='Run/Update', style…"
      ]
     },
     "metadata": {},
     "output_type": "display_data"
    }
   ],
   "source": [
    "display(w)"
   ]
  },
  {
   "cell_type": "code",
   "execution_count": 24,
   "metadata": {},
   "outputs": [
    {
     "data": {
      "application/vnd.jupyter.widget-view+json": {
       "model_id": "33f371c5a5fe400db3c160ed1a201709",
       "version_major": 2,
       "version_minor": 0
      },
      "text/plain": [
       "Output(outputs=({'output_type': 'display_data', 'data': {'text/plain': '<Figure size 432x288 with 1 Axes>', 'i…"
      ]
     },
     "metadata": {},
     "output_type": "display_data"
    }
   ],
   "source": [
    "w.children[2]"
   ]
  },
  {
   "cell_type": "code",
   "execution_count": 25,
   "metadata": {},
   "outputs": [
    {
     "data": {
      "application/vnd.jupyter.widget-view+json": {
       "model_id": "26b9040f9be9408d84fcab070a9d7c6e",
       "version_major": 2,
       "version_minor": 0
      },
      "text/plain": [
       "interactive(children=(FloatSlider(value=0.0, description='m', max=2.0, min=-2.0), FloatSlider(value=0.0, descr…"
      ]
     },
     "metadata": {},
     "output_type": "display_data"
    }
   ],
   "source": [
    "def f(m, b):\n",
    "    plt.figure(2)\n",
    "    x = np.linspace(-10, 10, num=1000)\n",
    "    plt.plot(x, m * x + b)\n",
    "    plt.ylim(-5, 5)\n",
    "    plt.show()\n",
    "\n",
    "interactive_plot = widgets.interactive(f, m=(-2.0, 2.0), b=(-3, 3, 0.5))\n",
    "output = interactive_plot.children[-1]\n",
    "output.layout.height = '150px'\n",
    "interactive_plot"
   ]
  },
  {
   "cell_type": "markdown",
   "metadata": {},
   "source": [
    "## Separating controls from UI"
   ]
  },
  {
   "cell_type": "code",
   "execution_count": 26,
   "metadata": {},
   "outputs": [
    {
     "data": {
      "application/vnd.jupyter.widget-view+json": {
       "model_id": "b75337c3e5b646e483eecce47672c62c",
       "version_major": 2,
       "version_minor": 0
      },
      "text/plain": [
       "HBox(children=(Text(value='bla'), IntSlider(value=2, max=5), IntSlider(value=2, max=5)))"
      ]
     },
     "metadata": {},
     "output_type": "display_data"
    },
    {
     "data": {
      "application/vnd.jupyter.widget-view+json": {
       "model_id": "2f21909fe2b54d3cba8b23731772e972",
       "version_major": 2,
       "version_minor": 0
      },
      "text/plain": [
       "Output()"
      ]
     },
     "metadata": {},
     "output_type": "display_data"
    }
   ],
   "source": [
    "label = widgets.Text('bla')\n",
    "p1 = widgets.IntSlider(2,min=0,max=5)\n",
    "p2 = widgets.IntSlider(2,min=0,max=5)\n",
    "\n",
    "head = widgets.HBox([label,p1,p2])\n",
    "\n",
    "def action(l,a,b):\n",
    "    x = np.linspace(0,2,20)\n",
    "    f1 = a+x\n",
    "    f2 = a+x**b\n",
    "    fig,ax = plt.subplots(1,2)\n",
    "    ax[0].plot(x,f1)\n",
    "    ax[0].set_xlabel(l)\n",
    "    ax[0].set_ylim([0,10])\n",
    "    ax[1].plot(x,f2)\n",
    "    ax[1].set_ylim([0,10])\n",
    "    \n",
    "bottom = widgets.interactive_output(action,{'l':label,'a':p1,'b':p2})\n",
    "\n",
    "display(head)\n",
    "display(bottom)"
   ]
  },
  {
   "cell_type": "code",
   "execution_count": 27,
   "metadata": {},
   "outputs": [],
   "source": [
    "bottom_manual = widgets.interactive(action,{'manual':True},l=label,a=p1,b=p2)"
   ]
  },
  {
   "cell_type": "code",
   "execution_count": 36,
   "metadata": {},
   "outputs": [
    {
     "data": {
      "application/vnd.jupyter.widget-view+json": {
       "model_id": "b75337c3e5b646e483eecce47672c62c",
       "version_major": 2,
       "version_minor": 0
      },
      "text/plain": [
       "HBox(children=(Text(value='bla', description='l'), IntSlider(value=4, description='a', max=5), IntSlider(value…"
      ]
     },
     "metadata": {},
     "output_type": "display_data"
    },
    {
     "data": {
      "application/vnd.jupyter.widget-view+json": {
       "model_id": "48bf6ead50c64bc0b60d435e1dd4afd6",
       "version_major": 2,
       "version_minor": 0
      },
      "text/plain": [
       "Button(description='Run Interact', style=ButtonStyle())"
      ]
     },
     "metadata": {},
     "output_type": "display_data"
    },
    {
     "data": {
      "application/vnd.jupyter.widget-view+json": {
       "model_id": "0430dea8bf9a46dbabc99b8dcc1ce272",
       "version_major": 2,
       "version_minor": 0
      },
      "text/plain": [
       "Output()"
      ]
     },
     "metadata": {},
     "output_type": "display_data"
    }
   ],
   "source": [
    "display(head)\n",
    "display(bottom_manual.children[-2])\n",
    "display(bottom_manual.children[-1])"
   ]
  },
  {
   "cell_type": "markdown",
   "metadata": {},
   "source": [
    "## A slightly more complicated example"
   ]
  },
  {
   "cell_type": "code",
   "execution_count": 78,
   "metadata": {},
   "outputs": [],
   "source": [
    "def bV(c1s,c2s,f2):\n",
    "    return np.array([1-f2,f2])@np.array([c1s,c2s])\n",
    "\n",
    "def bR(c1s,c2s,f2):\n",
    "    return 1/(np.array([1-f2,f2])@np.array([1/c1s,1/c2s]))\n",
    "\n",
    "def plot(c1s,c2s):\n",
    "    f2s = np.linspace(0,1,20)\n",
    "    \n",
    "    pV = np.array([bV(c1s,c2s,f2) for f2 in f2s]) \n",
    "    pR = np.array([bR(c1s,c2s,f2) for f2 in f2s])\n",
    "    \n",
    "    fig,ax = plt.subplots(1,2,figsize=(10,4))\n",
    "    \n",
    "    ax[0].plot(f2s,pV[:,0],label='Voigt')\n",
    "    ax[0].plot(f2s,pR[:,0],label='Reuss')\n",
    "    ax[0].set_ylim(0)\n",
    "    \n",
    "    ax[1].plot(f2s,pV[:,1],label='Voigt')\n",
    "    ax[1].plot(f2s,pR[:,1],label='Reuss')\n",
    "    ax[1].set_ylim(0)\n",
    "    "
   ]
  },
  {
   "cell_type": "code",
   "execution_count": 79,
   "metadata": {},
   "outputs": [
    {
     "data": {
      "image/png": "[encoded data removed]",
      "text/plain": [
       "<Figure size 720x288 with 2 Axes>"
      ]
     },
     "metadata": {
      "needs_background": "light"
     },
     "output_type": "display_data"
    }
   ],
   "source": [
    "c1s = np.array([1,8])\n",
    "c2s = np.array([10,3])\n",
    "\n",
    "bV(c1s,c2s,0.1)\n",
    "\n",
    "plot(c1s,c2s)"
   ]
  },
  {
   "cell_type": "code",
   "execution_count": 84,
   "metadata": {},
   "outputs": [],
   "source": [
    "c11 = widgets.IntSlider(1,min=1,max=10,description='c11 = 3K1')\n",
    "c12 = widgets.IntSlider(1,min=1,max=10,description='c12 = 2G1')\n",
    "\n",
    "c21 = widgets.IntSlider(10,min=1,max=10,description='c21 = 3K2')\n",
    "c22 = widgets.IntSlider(10,min=1,max=10,description='c22 = 2G2')\n",
    "\n",
    "head1 = widgets.HBox([widgets.Label('Material 1'),c11,c12])\n",
    "head2 = widgets.HBox([widgets.Label('Material 2'),c21,c22])\n",
    "\n",
    "def plot2(c11,c12,c21,c22):\n",
    "    plot(np.array([c11,c12]),np.array([c21,c22]))\n",
    "\n",
    "bottom_manual = widgets.interactive(\n",
    "    plot2\n",
    "    ,{'manual':True}\n",
    "    ,c11=c11,c12=c12,c21=c21,c22=c22\n",
    ")\n",
    "bottom_manual.children[-2].description = 'Run/Update'"
   ]
  },
  {
   "cell_type": "code",
   "execution_count": 85,
   "metadata": {},
   "outputs": [
    {
     "data": {
      "application/vnd.jupyter.widget-view+json": {
       "model_id": "423671eace6a4861b59e204699cb8cb5",
       "version_major": 2,
       "version_minor": 0
      },
      "text/plain": [
       "HBox(children=(Label(value='Material 1'), IntSlider(value=1, description='c11 = 3K1', max=10, min=1), IntSlide…"
      ]
     },
     "metadata": {},
     "output_type": "display_data"
    },
    {
     "data": {
      "application/vnd.jupyter.widget-view+json": {
       "model_id": "cdbfeec042da4b6dbe0b3ae0f33ee25e",
       "version_major": 2,
       "version_minor": 0
      },
      "text/plain": [
       "HBox(children=(Label(value='Material 2'), IntSlider(value=10, description='c21 = 3K2', max=10, min=1), IntSlid…"
      ]
     },
     "metadata": {},
     "output_type": "display_data"
    },
    {
     "data": {
      "application/vnd.jupyter.widget-view+json": {
       "model_id": "08255171f2974c39b5c5b8e36e857319",
       "version_major": 2,
       "version_minor": 0
      },
      "text/plain": [
       "Button(description='Run/Update', style=ButtonStyle())"
      ]
     },
     "metadata": {},
     "output_type": "display_data"
    },
    {
     "data": {
      "application/vnd.jupyter.widget-view+json": {
       "model_id": "e1f11f90662843ca8d1c4531f19e39c2",
       "version_major": 2,
       "version_minor": 0
      },
      "text/plain": [
       "Output()"
      ]
     },
     "metadata": {},
     "output_type": "display_data"
    }
   ],
   "source": [
    "display(head1)\n",
    "display(head2)\n",
    "display(bottom_manual.children[-2])\n",
    "display(bottom_manual.children[-1])"
   ]
  },
  {
   "cell_type": "code",
   "execution_count": null,
   "metadata": {},
   "outputs": [],
   "source": []
  }
 ],
 "metadata": {
  "kernelspec": {
   "display_name": "Python 3",
   "language": "python",
   "name": "python3"
  },
  "language_info": {
   "codemirror_mode": {
    "name": "ipython",
    "version": 3
   },
   "file_extension": ".py",
   "mimetype": "text/x-python",
   "name": "python",
   "nbconvert_exporter": "python",
   "pygments_lexer": "ipython3",
   "version": "3.7.6"
  }
 },
 "nbformat": 4,
 "nbformat_minor": 4
}
